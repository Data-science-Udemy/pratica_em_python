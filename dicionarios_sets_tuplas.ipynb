{
 "cells": [
  {
   "cell_type": "code",
   "execution_count": 2,
   "id": "21d684d5-5469-44de-8320-1af19c01cda9",
   "metadata": {},
   "outputs": [
    {
     "name": "stdout",
     "output_type": "stream",
     "text": [
      "{'Mariana': 9.0, 'Soraya': 8.5, 'Amanda': 8.0, 'Gustavo': 10}\n"
     ]
    }
   ],
   "source": [
    "#Dicionarios, estruturas chave/valor\n",
    "Notas = {\"Mariana\" : 9.0, \"Soraya\" :8.5, \"Amanda\" : 8.0, \"Gustavo\" : 10}\n",
    "print(Notas)"
   ]
  },
  {
   "cell_type": "code",
   "execution_count": 3,
   "id": "3c3304a5-1ab8-4141-b729-e5490332e97d",
   "metadata": {},
   "outputs": [
    {
     "name": "stdout",
     "output_type": "stream",
     "text": [
      "10\n"
     ]
    }
   ],
   "source": [
    "print(Notas['Gustavo'])"
   ]
  },
  {
   "cell_type": "code",
   "execution_count": 4,
   "id": "eb28a52d-8d3b-4cb7-8e02-34d4a46f7acb",
   "metadata": {},
   "outputs": [
    {
     "data": {
      "text/plain": [
       "dict_keys(['Mariana', 'Soraya', 'Amanda', 'Gustavo'])"
      ]
     },
     "execution_count": 4,
     "metadata": {},
     "output_type": "execute_result"
    }
   ],
   "source": [
    "#Todas as chaves\n",
    "Notas.keys()"
   ]
  },
  {
   "cell_type": "code",
   "execution_count": 5,
   "id": "12ab722d-5323-4dd6-aed1-f919d33a3e6f",
   "metadata": {},
   "outputs": [
    {
     "data": {
      "text/plain": [
       "dict_values([9.0, 8.5, 8.0, 10])"
      ]
     },
     "execution_count": 5,
     "metadata": {},
     "output_type": "execute_result"
    }
   ],
   "source": [
    "#Todos os valores\n",
    "Notas.values()"
   ]
  },
  {
   "cell_type": "code",
   "execution_count": 7,
   "id": "b9c62196-020c-44c7-a839-854b28b2b709",
   "metadata": {},
   "outputs": [
    {
     "name": "stdout",
     "output_type": "stream",
     "text": [
      "True\n",
      "False\n"
     ]
    }
   ],
   "source": [
    "#Testa logicamente a existência\n",
    "print('Soraya' in Notas)\n",
    "print('Ryan' in Notas)"
   ]
  },
  {
   "cell_type": "code",
   "execution_count": 9,
   "id": "fbbff984-fa51-4192-801d-875e4db10f91",
   "metadata": {},
   "outputs": [
    {
     "name": "stdout",
     "output_type": "stream",
     "text": [
      "{'Mariana': 9.0, 'Soraya': 8.5, 'Gustavo': 10}\n"
     ]
    }
   ],
   "source": [
    "#Apaga um elemento\n",
    "del Notas['Amanda']\n",
    "print(Notas)"
   ]
  },
  {
   "cell_type": "code",
   "execution_count": 10,
   "id": "7a222171-eff1-4747-bdf7-c4e2c6f6f45b",
   "metadata": {},
   "outputs": [
    {
     "name": "stdout",
     "output_type": "stream",
     "text": [
      "{'Mariana': 9.0, 'Soraya': 8.5, 'Gustavo': 10, 'João': 7.3}\n"
     ]
    }
   ],
   "source": [
    "#Inclui um elemento\n",
    "Notas['João'] = 7.3\n",
    "print(Notas)"
   ]
  },
  {
   "cell_type": "code",
   "execution_count": 13,
   "id": "17273007-bec6-445a-9e78-c300ef249622",
   "metadata": {},
   "outputs": [
    {
     "data": {
      "text/plain": [
       "'Não Encontrado!'"
      ]
     },
     "execution_count": 13,
     "metadata": {},
     "output_type": "execute_result"
    }
   ],
   "source": [
    "#Busca um valor, se não encontrar mostra um segundo parametro\n",
    "Notas.get('Carlos','Não Encontrado!')"
   ]
  },
  {
   "cell_type": "code",
   "execution_count": 15,
   "id": "4cf217b3-fc29-496d-9a4e-351471e1dd0c",
   "metadata": {},
   "outputs": [
    {
     "name": "stdout",
     "output_type": "stream",
     "text": [
      "{'Sqoop', 'Spark', 'Hive'}\n"
     ]
    }
   ],
   "source": [
    "#Sets são conjuntos não ordenados de elementos não repetidos\n",
    "bigdata = {'Spark', 'Hive', 'Sqoop'}\n",
    "print(bigdata)"
   ]
  },
  {
   "cell_type": "code",
   "execution_count": 16,
   "id": "fda058f6-7463-4c4e-a482-64d64ad54742",
   "metadata": {},
   "outputs": [
    {
     "name": "stdout",
     "output_type": "stream",
     "text": [
      "True\n"
     ]
    }
   ],
   "source": [
    "#Verifica existencia\n",
    "print('Spark' in bigdata)"
   ]
  },
  {
   "cell_type": "code",
   "execution_count": 17,
   "id": "97dd69e5-c5ed-4df2-96ba-d707002eed0f",
   "metadata": {},
   "outputs": [
    {
     "data": {
      "text/plain": [
       "{'Hadoop', 'Hive', 'Spark', 'Sqoop'}"
      ]
     },
     "execution_count": 17,
     "metadata": {},
     "output_type": "execute_result"
    }
   ],
   "source": [
    "#Adiciona elemento\n",
    "bigdata.add('Hadoop')\n",
    "bigdata"
   ]
  },
  {
   "cell_type": "code",
   "execution_count": 18,
   "id": "9a23c2ef-3f3b-48c3-9fd9-6c6e51066366",
   "metadata": {},
   "outputs": [
    {
     "name": "stdout",
     "output_type": "stream",
     "text": [
      "4\n"
     ]
    }
   ],
   "source": [
    "#Numero de elementos\n",
    "print(len(bigdata))"
   ]
  },
  {
   "cell_type": "code",
   "execution_count": 19,
   "id": "619c73bd-6f3e-4065-974a-625811b56939",
   "metadata": {},
   "outputs": [
    {
     "data": {
      "text/plain": [
       "{'Hadoop', 'Hive', 'Spark', 'Sqoop'}"
      ]
     },
     "execution_count": 19,
     "metadata": {},
     "output_type": "execute_result"
    }
   ],
   "source": [
    "bigdata.add('Spark')\n",
    "bigdata"
   ]
  },
  {
   "cell_type": "code",
   "execution_count": 20,
   "id": "fb9a2816-c38a-480d-9d56-68af7807a650",
   "metadata": {},
   "outputs": [
    {
     "data": {
      "text/plain": [
       "(1, 2, 3, 4, 5, 6, 7)"
      ]
     },
     "execution_count": 20,
     "metadata": {},
     "output_type": "execute_result"
    }
   ],
   "source": [
    "#Tuplas são listas que não podem ser alteradas\n",
    "#Listas usam [], tuplas usam ()\n",
    "tupla = (1,2,3,4,5,6,7)\n",
    "tupla"
   ]
  },
  {
   "cell_type": "code",
   "execution_count": 21,
   "id": "932ca07f-6b1f-4db2-a3c9-4f39bc71746b",
   "metadata": {},
   "outputs": [
    {
     "data": {
      "text/plain": [
       "5"
      ]
     },
     "execution_count": 21,
     "metadata": {},
     "output_type": "execute_result"
    }
   ],
   "source": [
    "tupla[4]"
   ]
  },
  {
   "cell_type": "code",
   "execution_count": 23,
   "id": "c916a38d-1c14-43e7-83d2-f4b942d5ce0c",
   "metadata": {},
   "outputs": [
    {
     "data": {
      "text/plain": [
       "{(0, 1): 0,\n",
       " (1, 2): 1,\n",
       " (2, 3): 2,\n",
       " (3, 4): 3,\n",
       " (4, 5): 4,\n",
       " (5, 6): 5,\n",
       " (6, 7): 6,\n",
       " (7, 8): 7,\n",
       " (8, 9): 8,\n",
       " (9, 10): 9}"
      ]
     },
     "execution_count": 23,
     "metadata": {},
     "output_type": "execute_result"
    }
   ],
   "source": [
    "#Dicionarios em que cada posição recebe uma tupla\n",
    "dic2 = {(0, 1): 0, (1, 2): 1, (2, 3): 2, (3, 4) : 3, (4, 5):4, (5, 6):5, (6, 7): 6, (7, 8):7, (8, 9): 8, (9, 10): 9}\n",
    "dic2"
   ]
  },
  {
   "cell_type": "code",
   "execution_count": 24,
   "id": "6123e58c-05c4-4585-a9dc-e26df6207b7b",
   "metadata": {},
   "outputs": [
    {
     "name": "stdout",
     "output_type": "stream",
     "text": [
      "<class 'dict'>\n",
      "<class 'set'>\n",
      "<class 'tuple'>\n"
     ]
    }
   ],
   "source": [
    "print(type(Notas))\n",
    "print(type(bigdata))\n",
    "print(type(tupla))"
   ]
  }
 ],
 "metadata": {
  "kernelspec": {
   "display_name": "Python 3 (ipykernel)",
   "language": "python",
   "name": "python3"
  },
  "language_info": {
   "codemirror_mode": {
    "name": "ipython",
    "version": 3
   },
   "file_extension": ".py",
   "mimetype": "text/x-python",
   "name": "python",
   "nbconvert_exporter": "python",
   "pygments_lexer": "ipython3",
   "version": "3.9.13"
  }
 },
 "nbformat": 4,
 "nbformat_minor": 5
}
