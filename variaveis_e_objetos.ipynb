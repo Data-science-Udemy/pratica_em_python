{
 "cells": [
  {
   "cell_type": "code",
   "execution_count": 1,
   "id": "4d8e8e40-1545-49ce-b506-ee773b453717",
   "metadata": {},
   "outputs": [
    {
     "name": "stdout",
     "output_type": "stream",
     "text": [
      "1\n",
      "3.3\n",
      "Python\n",
      "True\n"
     ]
    }
   ],
   "source": [
    "#criando variaveis\n",
    "#int\n",
    "x = 1\n",
    "print(x)\n",
    "#float\n",
    "y = 3.3\n",
    "print(y)\n",
    "#string\n",
    "m = \"Python\"\n",
    "print(m)\n",
    "#boolean\n",
    "w = True\n",
    "y = False\n",
    "print(w)"
   ]
  },
  {
   "cell_type": "code",
   "execution_count": 4,
   "id": "ad38b895-1966-48ee-9e94-733d2729cb23",
   "metadata": {},
   "outputs": [
    {
     "name": "stdout",
     "output_type": "stream",
     "text": [
      "30.0\n"
     ]
    }
   ],
   "source": [
    "#calculadora\n",
    "x = 10\n",
    "y = 20\n",
    "z = 100\n",
    "w = (x + y) * z /100\n",
    "print(w)"
   ]
  },
  {
   "cell_type": "code",
   "execution_count": 10,
   "id": "4716088e-32a4-462d-8e70-3864534b409d",
   "metadata": {},
   "outputs": [
    {
     "name": "stdout",
     "output_type": "stream",
     "text": [
      "Esse texto será impresso no console\n",
      "10\n",
      "texto e duas variaveis: 10 ,  100\n"
     ]
    }
   ],
   "source": [
    "#exibir texto no console\n",
    "print(\"Esse texto será impresso no console\")\n",
    "print(x)\n",
    "print(\"texto e duas variaveis:\",x, \", \", z)"
   ]
  },
  {
   "cell_type": "code",
   "execution_count": 11,
   "id": "81bc4bdf-beab-49bc-a096-9d01c1a21d04",
   "metadata": {},
   "outputs": [
    {
     "name": "stdout",
     "output_type": "stream",
     "text": [
      "<class 'int'>\n",
      "<class 'str'>\n"
     ]
    }
   ],
   "source": [
    "#verificar tipo\n",
    "print(type(x))\n",
    "print(type(m))"
   ]
  },
  {
   "cell_type": "code",
   "execution_count": 15,
   "id": "dbf942bb-7803-4334-9248-87f9149308ee",
   "metadata": {},
   "outputs": [
    {
     "name": "stdin",
     "output_type": "stream",
     "text": [
      "Informe o valor\n",
      " 10\n"
     ]
    },
    {
     "name": "stdout",
     "output_type": "stream",
     "text": [
      "10\n",
      "<class 'str'>\n"
     ]
    }
   ],
   "source": [
    "#entrada de dados\n",
    "i = input(\"Informe o valor\\n\")\n",
    "print(i)\n",
    "print(type(i))"
   ]
  },
  {
   "cell_type": "code",
   "execution_count": 19,
   "id": "78a149b8-67e2-4ecb-8202-6cee7c5c65fc",
   "metadata": {},
   "outputs": [
    {
     "name": "stdin",
     "output_type": "stream",
     "text": [
      "Infome o valor: 10\n"
     ]
    },
    {
     "name": "stdout",
     "output_type": "stream",
     "text": [
      "<class 'str'>\n",
      "Após conversão\n",
      "<class 'int'>\n"
     ]
    }
   ],
   "source": [
    "#conversão de valores\n",
    "var = input(\"Infome o valor:\")\n",
    "print(type(var))\n",
    "print(\"Após conversão\")\n",
    "var = int(var)\n",
    "print(type(var))"
   ]
  },
  {
   "cell_type": "code",
   "execution_count": 23,
   "id": "fb3b99ee-912f-4cd6-94c8-8d1ff03683b4",
   "metadata": {},
   "outputs": [
    {
     "name": "stdin",
     "output_type": "stream",
     "text": [
      "informe o valor:  1\n"
     ]
    },
    {
     "name": "stdout",
     "output_type": "stream",
     "text": [
      "<class 'str'>\n",
      "Após conversão\n",
      "<class 'float'>\n",
      "1.0\n"
     ]
    }
   ],
   "source": [
    "#agora float\n",
    "var = input(\"informe o valor: \")\n",
    "print(type(var))\n",
    "print(\"Após conversão\")\n",
    "var = float(var)\n",
    "print(type(var))\n",
    "print(var)"
   ]
  },
  {
   "cell_type": "markdown",
   "id": "0db76943-f9a0-40f8-a8dd-63de5a4e2cb4",
   "metadata": {},
   "source": []
  }
 ],
 "metadata": {
  "kernelspec": {
   "display_name": "Python 3 (ipykernel)",
   "language": "python",
   "name": "python3"
  },
  "language_info": {
   "codemirror_mode": {
    "name": "ipython",
    "version": 3
   },
   "file_extension": ".py",
   "mimetype": "text/x-python",
   "name": "python",
   "nbconvert_exporter": "python",
   "pygments_lexer": "ipython3",
   "version": "3.9.13"
  }
 },
 "nbformat": 4,
 "nbformat_minor": 5
}
