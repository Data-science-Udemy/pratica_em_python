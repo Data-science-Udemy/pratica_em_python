{
 "cells": [
  {
   "cell_type": "code",
   "execution_count": 1,
   "id": "7f4b649b-8fe4-4799-a896-9e7e11a9af6f",
   "metadata": {},
   "outputs": [
    {
     "name": "stdout",
     "output_type": "stream",
     "text": [
      "[1, 2, 3, 4, 5]\n"
     ]
    }
   ],
   "source": [
    "#Listas \n",
    "lst = [1,2,3,4,5]\n",
    "print(lst)"
   ]
  },
  {
   "cell_type": "code",
   "execution_count": 2,
   "id": "d421de9e-c6b1-4448-9f48-ba7ea29993c9",
   "metadata": {},
   "outputs": [
    {
     "name": "stdout",
     "output_type": "stream",
     "text": [
      "[1, 2, 3, '4', True]\n"
     ]
    }
   ],
   "source": [
    "#Vários tipos\n",
    "lst2 = [1,2,3,\"4\",True]\n",
    "print(lst2)"
   ]
  },
  {
   "cell_type": "code",
   "execution_count": 3,
   "id": "bf554fb3-aba0-4c9e-82a7-bf2669f8212a",
   "metadata": {},
   "outputs": [
    {
     "name": "stdout",
     "output_type": "stream",
     "text": [
      "[1, 2, [1, 2, 3, 4, 5], 'a']\n"
     ]
    }
   ],
   "source": [
    "#Lista com listas \n",
    "lst3 = [1,2,[1,2,3,4,5],\"a\"]\n",
    "print(lst3)"
   ]
  },
  {
   "cell_type": "code",
   "execution_count": 8,
   "id": "4e3dcfe3-c446-4a8f-9262-f5199cc9e014",
   "metadata": {},
   "outputs": [
    {
     "name": "stdout",
     "output_type": "stream",
     "text": [
      "[0, 1, 2, 3, 4, 5, 6, 7, 8, 9, 10]\n"
     ]
    }
   ],
   "source": [
    "#Criando listas com range\n",
    "lst4 = list(range(0, 11))\n",
    "print(lst4)"
   ]
  },
  {
   "cell_type": "code",
   "execution_count": 9,
   "id": "373bd8ec-612c-4441-9be1-6b7b7d1837e4",
   "metadata": {},
   "outputs": [
    {
     "name": "stdout",
     "output_type": "stream",
     "text": [
      "11\n"
     ]
    }
   ],
   "source": [
    "#Comprimento da lista\n",
    "print(len(lst4))"
   ]
  },
  {
   "cell_type": "code",
   "execution_count": 14,
   "id": "0fa21b4f-7a66-4441-9fc5-47900385af61",
   "metadata": {},
   "outputs": [
    {
     "name": "stdout",
     "output_type": "stream",
     "text": [
      "4\n",
      "[1, 2, 3, 4, 5]\n",
      "[4, 2, 3, 4, 5]\n",
      "<class 'list'>\n"
     ]
    }
   ],
   "source": [
    "#Acessando um elemento\n",
    "print(lst[0])\n",
    "#Posição 2 é uma lista\n",
    "print(lst3[2])\n",
    "#Alterando posição\n",
    "lst[0] = 4\n",
    "print(lst)\n",
    "print(list)"
   ]
  },
  {
   "cell_type": "code",
   "execution_count": 17,
   "id": "e0020a8c-b6a2-4417-a909-6c1182a46220",
   "metadata": {},
   "outputs": [
    {
     "name": "stdout",
     "output_type": "stream",
     "text": [
      "0\n",
      "1\n",
      "2\n",
      "3\n",
      "4\n",
      "5\n",
      "6\n",
      "7\n",
      "8\n",
      "9\n",
      "10\n"
     ]
    }
   ],
   "source": [
    "#Percorrendo uma lista\n",
    "for n in range(0, len(lst4)):\n",
    "    print(lst4[n])\n",
    "    n += 1"
   ]
  }
 ],
 "metadata": {
  "kernelspec": {
   "display_name": "Python 3 (ipykernel)",
   "language": "python",
   "name": "python3"
  },
  "language_info": {
   "codemirror_mode": {
    "name": "ipython",
    "version": 3
   },
   "file_extension": ".py",
   "mimetype": "text/x-python",
   "name": "python",
   "nbconvert_exporter": "python",
   "pygments_lexer": "ipython3",
   "version": "3.9.13"
  }
 },
 "nbformat": 4,
 "nbformat_minor": 5
}
