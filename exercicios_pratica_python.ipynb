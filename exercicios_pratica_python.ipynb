{
 "cells": [
  {
   "cell_type": "code",
   "execution_count": 36,
   "id": "047c3ba9",
   "metadata": {},
   "outputs": [
    {
     "name": "stdout",
     "output_type": "stream",
     "text": [
      "Amplitude:  99\n"
     ]
    }
   ],
   "source": [
    "#1. Faça um programa que tenha uma função chamada amplitude. A função deve receber uma lista e imprimir a amplitude.\n",
    "#Crie também um código para testar sua função\n",
    "def amplitude(lista):\n",
    "    print(\"Amplitude: \", max(lista) - min(lista))\n",
    "\n",
    "\n",
    "lista = [1, 2, 3, 4, 100]\n",
    "\n",
    "amplitude(lista)"
   ]
  },
  {
   "cell_type": "code",
   "execution_count": 27,
   "id": "694e1d1a",
   "metadata": {},
   "outputs": [
    {
     "name": "stdout",
     "output_type": "stream",
     "text": [
      "Digite uma palavra: Gustavo\n",
      "G \n",
      "\n",
      "u \n",
      "\n",
      "s \n",
      "\n",
      "t \n",
      "\n",
      "a \n",
      "\n",
      "v \n",
      "\n",
      "o \n",
      "\n"
     ]
    }
   ],
   "source": [
    "#2. Faça uma função que receba uma string e imprima esta string na forma vertical\n",
    "def imprimir(palavra):\n",
    "    for i in range(len(palavra)):\n",
    "        print(palavra[i], \"\\n\")\n",
    "        i += 1  \n",
    "\n",
    "palavra = input(\"Digite uma palavra: \")\n",
    "\n",
    "imprimir(palavra)\n"
   ]
  },
  {
   "cell_type": "code",
   "execution_count": 35,
   "id": "66f19561",
   "metadata": {},
   "outputs": [
    {
     "name": "stdout",
     "output_type": "stream",
     "text": [
      "Digite o peso da carga: 21\n",
      "O transporte não é aceito\n"
     ]
    }
   ],
   "source": [
    "#3. Crie um programa que leia o peso de uma carga em números inteiros. \n",
    "#Se o peso for até 10 kg, informe que o valor será de R$ 50,00. \n",
    "#Entre 11 e 20 kg, informe que o valor será de R$ 80. \n",
    "# Se for maior que  20 informe que o transporte não é aceito. Teste vários pesos.\n",
    "\n",
    "def preco(peso):\n",
    "    if peso <= 10:\n",
    "        print(\"O valor será de R$50,00\")\n",
    "    elif peso <= 20:\n",
    "        print(\"O valor será de R$80,00\")\n",
    "    else:\n",
    "        print(\"O transporte não é aceito\")\n",
    "\n",
    "peso = int(input(\"Digite o peso da carga: \"))\n",
    "preco(peso)"
   ]
  }
 ],
 "metadata": {
  "kernelspec": {
   "display_name": "Python 3 (ipykernel)",
   "language": "python",
   "name": "python3"
  },
  "language_info": {
   "codemirror_mode": {
    "name": "ipython",
    "version": 3
   },
   "file_extension": ".py",
   "mimetype": "text/x-python",
   "name": "python",
   "nbconvert_exporter": "python",
   "pygments_lexer": "ipython3",
   "version": "3.9.13"
  }
 },
 "nbformat": 4,
 "nbformat_minor": 5
}
